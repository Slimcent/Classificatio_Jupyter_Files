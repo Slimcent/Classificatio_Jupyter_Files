{
 "cells": [
  {
   "cell_type": "markdown",
   "id": "058c7d6a",
   "metadata": {},
   "source": [
    "Ensemble models combine predictions from multiple individual models to improve overall performance and robustness. \n",
    "They leverage the strengths of various algorithms to produce a final prediction that is often more accurate and less prone to overfitting than any single model alone."
   ]
  },
  {
   "cell_type": "markdown",
   "id": "c6dc62e2",
   "metadata": {},
   "source": [
    "There are several types of ensemble methods, which are;\n",
    "\n",
    "Bagging (Bootstrap Aggregating)\n",
    "How it Works: Multiple copies of the same algorithm are trained on different subsets of the training data (created by bootstrapping, which involves sampling with replacement). The final prediction is made by aggregating the predictions from all models, typically by averaging for regression tasks and majority voting for classification tasks.\n",
    "Example: Random Forest is a popular bagging algorithm that uses decision trees as the base models.\n",
    "\n",
    "Boosting\n",
    "How it Works: Models are trained sequentially, where each new model focuses on the errors made by the previous models. The predictions from all models are combined, often with weights assigned to each model based on its performance.\n",
    "Example: AdaBoost and Gradient Boosting Machines (GBM) are common boosting techniques.\n",
    "\n",
    "Stacking (Stacked Generalization)\n",
    "How it Works: Multiple models (base learners) are trained on the same dataset. A meta-model (or second-level model) is then trained on the outputs of the base models to make the final prediction. This meta-model learns how to best combine the predictions of the base models.\n",
    "Example: You might use logistic regression as a meta-model to combine the outputs of several different base classifiers.\n",
    "\n",
    "Voting\n",
    "How it Works: Multiple models (typically of different types) are trained, and their predictions are combined through a voting scheme. For classification tasks, it could be majority voting or weighted voting, and for regression, it could be averaging.\n",
    "Example: A simple voting classifier that uses the majority vote of decision trees, support vector machines, and k-nearest neighbors."
   ]
  },
  {
   "cell_type": "code",
   "execution_count": 2,
   "id": "b17276c9",
   "metadata": {},
   "outputs": [],
   "source": [
    "import numpy as np\n",
    "import pandas as pd\n",
    "import seaborn as sns\n",
    "import sklearn\n",
    "import matplotlib.pyplot as plt\n",
    "from sklearn.datasets import fetch_openml\n",
    "from sklearn.model_selection import train_test_split\n",
    "from sklearn.linear_model import LogisticRegression\n",
    "from sklearn.svm import SVC\n",
    "from sklearn.linear_model import SGDClassifier\n",
    "from sklearn.metrics import accuracy_score\n",
    "from sklearn.ensemble import VotingClassifier\n",
    "from sklearn.metrics import accuracy_score\n",
    "from sklearn.ensemble import BaggingClassifier\n",
    "from sklearn.tree import DecisionTreeClassifier\n",
    "from sklearn.ensemble import GradientBoostingClassifier\n",
    "from sklearn.ensemble import AdaBoostClassifier\n",
    "from sklearn.ensemble import StackingClassifier\n",
    "from sklearn.ensemble import RandomForestClassifier\n",
    "from sklearn.linear_model import LogisticRegression\n",
    "from sklearn.svm import SVC\n",
    "import xgboost as xgb\n",
    "\n",
    "\n",
    "\n",
    "%matplotlib inline\n",
    "\n",
    "import warnings\n",
    "warnings.filterwarnings('ignore')"
   ]
  },
  {
   "cell_type": "markdown",
   "id": "58aff679",
   "metadata": {},
   "source": [
    "Loading the data"
   ]
  },
  {
   "cell_type": "code",
   "execution_count": 3,
   "id": "77ed7faa",
   "metadata": {},
   "outputs": [],
   "source": [
    "elec_data = fetch_openml(name='electricity', version=1)"
   ]
  },
  {
   "cell_type": "code",
   "execution_count": 4,
   "id": "5653f81a",
   "metadata": {},
   "outputs": [
    {
     "data": {
      "text/plain": [
       "sklearn.utils._bunch.Bunch"
      ]
     },
     "execution_count": 4,
     "metadata": {},
     "output_type": "execute_result"
    }
   ],
   "source": [
    "type(elec_data)"
   ]
  },
  {
   "cell_type": "code",
   "execution_count": 5,
   "id": "b61dee11",
   "metadata": {},
   "outputs": [
    {
     "data": {
      "text/plain": [
       "{'id': '151',\n",
       " 'name': 'electricity',\n",
       " 'version': '1',\n",
       " 'description_version': '1',\n",
       " 'format': 'ARFF',\n",
       " 'creator': ['M. Harries', 'J. Gama', 'A. Bifet'],\n",
       " 'collection_date': '1998-12-05',\n",
       " 'upload_date': '2014-04-10T02:42:23',\n",
       " 'language': 'English',\n",
       " 'licence': 'Public',\n",
       " 'url': 'https://api.openml.org/data/v1/download/2419/electricity.arff',\n",
       " 'parquet_url': 'https://openml1.win.tue.nl/datasets/0000/0151/dataset_151.pq',\n",
       " 'file_id': '2419',\n",
       " 'default_target_attribute': 'class',\n",
       " 'version_label': '1',\n",
       " 'tag': ['AzurePilot',\n",
       "  'concept_drift',\n",
       "  'electricity',\n",
       "  'Life Science',\n",
       "  'mythbusting_1',\n",
       "  'OpenML-CC18',\n",
       "  'OpenML100',\n",
       "  'study_1',\n",
       "  'study_123',\n",
       "  'study_135',\n",
       "  'study_14',\n",
       "  'study_15',\n",
       "  'study_16',\n",
       "  'study_20',\n",
       "  'study_34',\n",
       "  'study_37',\n",
       "  'study_41',\n",
       "  'study_7',\n",
       "  'study_70',\n",
       "  'study_99',\n",
       "  'Transportation'],\n",
       " 'visibility': 'public',\n",
       " 'original_data_url': 'http://www.inescporto.pt/~jgama/ales/ales_5.html',\n",
       " 'paper_url': 'http://citeseerx.ist.psu.edu/viewdoc/summary?doi=10.1.1.43.9013',\n",
       " 'minio_url': 'https://openml1.win.tue.nl/datasets/0000/0151/dataset_151.pq',\n",
       " 'status': 'active',\n",
       " 'processing_date': '2020-11-20 20:01:19',\n",
       " 'md5_checksum': '8ca97867d960ae029ae3a9ac2c923d34'}"
      ]
     },
     "execution_count": 5,
     "metadata": {},
     "output_type": "execute_result"
    }
   ],
   "source": [
    "elec_data.details"
   ]
  },
  {
   "cell_type": "code",
   "execution_count": 6,
   "id": "19e75e21",
   "metadata": {},
   "outputs": [
    {
     "data": {
      "text/plain": [
       "(45312, 8)"
      ]
     },
     "execution_count": 6,
     "metadata": {},
     "output_type": "execute_result"
    }
   ],
   "source": [
    "elec_data.data.shape"
   ]
  },
  {
   "cell_type": "code",
   "execution_count": 7,
   "id": "332ecb00",
   "metadata": {},
   "outputs": [
    {
     "name": "stdout",
     "output_type": "stream",
     "text": [
      "**Author**: M. Harries, J. Gama, A. Bifet  \n",
      "**Source**: [Joao Gama](http://www.inescporto.pt/~jgama/ales/ales_5.html) - 2009  \n",
      "**Please cite**: None  \n",
      "\n",
      "**Electricity** is a widely used dataset described by M. Harries and analyzed by J. Gama (see papers below). This data was collected from the Australian New South Wales Electricity Market. In this market, prices are not fixed and are affected by demand and supply of the market. They are set every five minutes. Electricity transfers to/from the neighboring state of Victoria were done to alleviate fluctuations.\n",
      "\n",
      "The dataset (originally named ELEC2) contains 45,312 instances dated from 7 May 1996 to 5 December 1998. Each example of the dataset refers to a period of 30 minutes, i.e. there are 48 instances for each time period of one day. Each example on the dataset has 5 fields, the day of week, the time stamp, the New South Wales electricity demand, the Victoria electricity demand, the scheduled electricity transfer between states and the class label. The class label identifies the change of the price (UP or DOWN) in New South Wales relative to a moving average of the last 24 hours (and removes the impact of longer term price trends). \n",
      "\n",
      "The data was normalized by A. Bifet.\n",
      "\n",
      "### Attribute information  \n",
      "* Date: date between 7 May 1996 to 5 December 1998. Here normalized between 0 and 1\n",
      "* Day: day of the week (1-7)\n",
      "* Period: time of the measurement (1-48) in half hour intervals over 24 hours. Here normalized between 0 and 1\n",
      "* NSWprice: New South Wales electricity price, normalized between 0 and 1\n",
      "* NSWdemand: New South Wales electricity demand, normalized between 0 and 1\n",
      "* VICprice: Victoria electricity price, normalized between 0 and 1\n",
      "* VICdemand: Victoria electricity demand, normalized between 0 and 1\n",
      "* transfer: scheduled electricity transfer between both states, normalized between 0 and 1\n",
      "\n",
      "### Relevant papers  \n",
      "M. Harries. Splice-2 comparative evaluation: Electricity pricing. Technical report, The University of South Wales, 1999.  \n",
      "J. Gama, P. Medas, G. Castillo, and P. Rodrigues. Learning with drift detection. In SBIA Brazilian Symposium on Artificial Intelligence, pages 286–295, 2004.\n",
      "\n",
      "Downloaded from openml.org.\n"
     ]
    }
   ],
   "source": [
    "# Description of the data \n",
    "print(elec_data.DESCR)"
   ]
  },
  {
   "cell_type": "code",
   "execution_count": 8,
   "id": "5ddb1189",
   "metadata": {},
   "outputs": [
    {
     "data": {
      "text/plain": [
       "['date',\n",
       " 'day',\n",
       " 'period',\n",
       " 'nswprice',\n",
       " 'nswdemand',\n",
       " 'vicprice',\n",
       " 'vicdemand',\n",
       " 'transfer']"
      ]
     },
     "execution_count": 8,
     "metadata": {},
     "output_type": "execute_result"
    }
   ],
   "source": [
    "# Displaying feature names\n",
    "\n",
    "elec_data.feature_names"
   ]
  },
  {
   "cell_type": "code",
   "execution_count": 9,
   "id": "f4870b51",
   "metadata": {},
   "outputs": [
    {
     "data": {
      "text/plain": [
       "['class']"
      ]
     },
     "execution_count": 9,
     "metadata": {},
     "output_type": "execute_result"
    }
   ],
   "source": [
    "# Displaying target name\n",
    "\n",
    "elec_data.target_names"
   ]
  },
  {
   "cell_type": "code",
   "execution_count": 10,
   "id": "43997217",
   "metadata": {},
   "outputs": [],
   "source": [
    "# Getting the whole dataframe\n",
    "\n",
    "elec_df = elec_data.frame"
   ]
  },
  {
   "cell_type": "code",
   "execution_count": 11,
   "id": "f5b17a28",
   "metadata": {},
   "outputs": [
    {
     "data": {
      "text/plain": [
       "pandas.core.frame.DataFrame"
      ]
     },
     "execution_count": 11,
     "metadata": {},
     "output_type": "execute_result"
    }
   ],
   "source": [
    "type(elec_df)"
   ]
  }
 ],
 "metadata": {
  "kernelspec": {
   "display_name": "Python 3 (ipykernel)",
   "language": "python",
   "name": "python3"
  },
  "language_info": {
   "codemirror_mode": {
    "name": "ipython",
    "version": 3
   },
   "file_extension": ".py",
   "mimetype": "text/x-python",
   "name": "python",
   "nbconvert_exporter": "python",
   "pygments_lexer": "ipython3",
   "version": "3.11.3"
  }
 },
 "nbformat": 4,
 "nbformat_minor": 5
}
