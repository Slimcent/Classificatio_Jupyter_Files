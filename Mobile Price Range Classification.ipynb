{
 "cells": [
  {
   "cell_type": "code",
   "execution_count": 1,
   "id": "fd0c4a54",
   "metadata": {},
   "outputs": [],
   "source": [
    "import pandas as pd\n",
    "\n",
    "train_data_path = 'https://raw.githubusercontent.com/Slimcent/Machine_Learning_Datasets/main/ML/mobile_price_train.csv'\n",
    "test_data_path = 'https://raw.githubusercontent.com/Slimcent/Machine_Learning_Datasets/main/ML/mobile_price_test.csv'"
   ]
  },
  {
   "cell_type": "code",
   "execution_count": null,
   "id": "d02ced2e",
   "metadata": {},
   "outputs": [],
   "source": []
  }
 ],
 "metadata": {
  "kernelspec": {
   "display_name": "Python 3 (ipykernel)",
   "language": "python",
   "name": "python3"
  },
  "language_info": {
   "codemirror_mode": {
    "name": "ipython",
    "version": 3
   },
   "file_extension": ".py",
   "mimetype": "text/x-python",
   "name": "python",
   "nbconvert_exporter": "python",
   "pygments_lexer": "ipython3",
   "version": "3.11.3"
  }
 },
 "nbformat": 4,
 "nbformat_minor": 5
}
