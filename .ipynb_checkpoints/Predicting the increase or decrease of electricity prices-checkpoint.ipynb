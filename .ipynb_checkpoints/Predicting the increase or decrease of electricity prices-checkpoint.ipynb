{
 "cells": [
  {
   "cell_type": "code",
   "execution_count": 10,
   "id": "a0e2ccfa",
   "metadata": {},
   "outputs": [],
   "source": [
    "import numpy as np\n",
    "import pandas as pd\n",
    "import seaborn as sns\n",
    "import sklearn\n",
    "from sklearn.model_selection import train_test_split\n",
    "from sklearn.preprocessing import LabelEncoder\n",
    "from sklearn.ensemble import RandomForestClassifier\n",
    "from sklearn.metrics import accuracy_score\n",
    "from sklearn.metrics import confusion_matrix\n",
    "from sklearn.metrics import classification_report\n",
    "from sklearn.model_selection import GridSearchCV\n",
    "import matplotlib.pyplot as plt\n",
    "\n",
    "%matplotlib inline\n",
    "\n",
    "import warnings\n",
    "warnings.filterwarnings('ignore')"
   ]
  },
  {
   "cell_type": "markdown",
   "id": "11d1fe34",
   "metadata": {},
   "source": [
    "The data that was collected from the Australian New South Wales Electricity Market. In this market, prices are not fixed and are affected by demand and supply of the market. They are set every five minutes. Electricity transfers to/from the neighboring state of Victoria were done to alleviate fluctuations.\n",
    "\n",
    "The dataset contains 45,312 instances dated from 7 May 1996 to 5 December 1998. Each example of the dataset refers to a period of 30 minutes, i.e. there are 48 instances for each time period of one day."
   ]
  },
  {
   "cell_type": "code",
   "execution_count": 11,
   "id": "85080abe",
   "metadata": {},
   "outputs": [],
   "source": [
    "# Loading the dataset\n",
    "\n",
    "from sklearn.datasets import fetch_openml\n",
    "\n",
    "elec_data = fetch_openml(name='electricity', version=1)"
   ]
  },
  {
   "cell_type": "code",
   "execution_count": 17,
   "id": "097ef7bb",
   "metadata": {},
   "outputs": [
    {
     "data": {
      "text/plain": [
       "'**Author**: M. Harries, J. Gama, A. Bifet  \\n**Source**: [Joao Gama](http://www.inescporto.pt/~jgama/ales/ales_5.html) - 2009  \\n**Please cite**: None  \\n\\n**Electricity** is a widely used dataset described by M. Harries and analyzed by J. Gama (see papers below). This data was collected from the Australian New South Wales Electricity Market. In this market, prices are not fixed and are affected by demand and supply of the market. They are set every five minutes. Electricity transfers to/from the neighboring state of Victoria were done to alleviate fluctuations.\\n\\nThe dataset (originally named ELEC2) contains 45,312 instances dated from 7 May 1996 to 5 December 1998. Each example of the dataset refers to a period of 30 minutes, i.e. there are 48 instances for each time period of one day. Each example on the dataset has 5 fields, the day of week, the time stamp, the New South Wales electricity demand, the Victoria electricity demand, the scheduled electricity transfer between states and the class label. The class label identifies the change of the price (UP or DOWN) in New South Wales relative to a moving average of the last 24 hours (and removes the impact of longer term price trends). \\n\\nThe data was normalized by A. Bifet.\\n\\n### Attribute information  \\n* Date: date between 7 May 1996 to 5 December 1998. Here normalized between 0 and 1\\n* Day: day of the week (1-7)\\n* Period: time of the measurement (1-48) in half hour intervals over 24 hours. Here normalized between 0 and 1\\n* NSWprice: New South Wales electricity price, normalized between 0 and 1\\n* NSWdemand: New South Wales electricity demand, normalized between 0 and 1\\n* VICprice: Victoria electricity price, normalized between 0 and 1\\n* VICdemand: Victoria electricity demand, normalized between 0 and 1\\n* transfer: scheduled electricity transfer between both states, normalized between 0 and 1\\n\\n### Relevant papers  \\nM. Harries. Splice-2 comparative evaluation: Electricity pricing. Technical report, The University of South Wales, 1999.  \\nJ. Gama, P. Medas, G. Castillo, and P. Rodrigues. Learning with drift detection. In SBIA Brazilian Symposium on Artificial Intelligence, pages 286–295, 2004.\\n\\nDownloaded from openml.org.'"
      ]
     },
     "execution_count": 17,
     "metadata": {},
     "output_type": "execute_result"
    }
   ],
   "source": [
    "elec_data.DESCR"
   ]
  },
  {
   "cell_type": "code",
   "execution_count": 12,
   "id": "ede5f219",
   "metadata": {},
   "outputs": [
    {
     "data": {
      "text/plain": [
       "sklearn.utils._bunch.Bunch"
      ]
     },
     "execution_count": 12,
     "metadata": {},
     "output_type": "execute_result"
    }
   ],
   "source": [
    "type(elec_data)"
   ]
  },
  {
   "cell_type": "code",
   "execution_count": 13,
   "id": "c1dbcc80",
   "metadata": {},
   "outputs": [
    {
     "data": {
      "text/plain": [
       "{'id': '151',\n",
       " 'name': 'electricity',\n",
       " 'version': '1',\n",
       " 'description_version': '1',\n",
       " 'format': 'ARFF',\n",
       " 'creator': ['M. Harries', 'J. Gama', 'A. Bifet'],\n",
       " 'collection_date': '1998-12-05',\n",
       " 'upload_date': '2014-04-10T02:42:23',\n",
       " 'language': 'English',\n",
       " 'licence': 'Public',\n",
       " 'url': 'https://api.openml.org/data/v1/download/2419/electricity.arff',\n",
       " 'parquet_url': 'https://openml1.win.tue.nl/datasets/0000/0151/dataset_151.pq',\n",
       " 'file_id': '2419',\n",
       " 'default_target_attribute': 'class',\n",
       " 'version_label': '1',\n",
       " 'tag': ['AzurePilot',\n",
       "  'concept_drift',\n",
       "  'electricity',\n",
       "  'Life Science',\n",
       "  'mythbusting_1',\n",
       "  'OpenML-CC18',\n",
       "  'OpenML100',\n",
       "  'study_1',\n",
       "  'study_123',\n",
       "  'study_135',\n",
       "  'study_14',\n",
       "  'study_15',\n",
       "  'study_16',\n",
       "  'study_20',\n",
       "  'study_34',\n",
       "  'study_37',\n",
       "  'study_41',\n",
       "  'study_7',\n",
       "  'study_70',\n",
       "  'study_99',\n",
       "  'Transportation'],\n",
       " 'visibility': 'public',\n",
       " 'original_data_url': 'http://www.inescporto.pt/~jgama/ales/ales_5.html',\n",
       " 'paper_url': 'http://citeseerx.ist.psu.edu/viewdoc/summary?doi=10.1.1.43.9013',\n",
       " 'minio_url': 'https://openml1.win.tue.nl/datasets/0000/0151/dataset_151.pq',\n",
       " 'status': 'active',\n",
       " 'processing_date': '2020-11-20 20:01:19',\n",
       " 'md5_checksum': '8ca97867d960ae029ae3a9ac2c923d34'}"
      ]
     },
     "execution_count": 13,
     "metadata": {},
     "output_type": "execute_result"
    }
   ],
   "source": [
    "elec_data.details"
   ]
  },
  {
   "cell_type": "code",
   "execution_count": 14,
   "id": "4e643d27",
   "metadata": {},
   "outputs": [
    {
     "data": {
      "text/plain": [
       "(45312, 8)"
      ]
     },
     "execution_count": 14,
     "metadata": {},
     "output_type": "execute_result"
    }
   ],
   "source": [
    "elec_data.data.shape"
   ]
  },
  {
   "cell_type": "code",
   "execution_count": 20,
   "id": "8df279d0",
   "metadata": {},
   "outputs": [
    {
     "data": {
      "text/plain": [
       "['date',\n",
       " 'day',\n",
       " 'period',\n",
       " 'nswprice',\n",
       " 'nswdemand',\n",
       " 'vicprice',\n",
       " 'vicdemand',\n",
       " 'transfer']"
      ]
     },
     "execution_count": 20,
     "metadata": {},
     "output_type": "execute_result"
    }
   ],
   "source": [
    "# Displaying feature names\n",
    "\n",
    "elec_data.feature_names"
   ]
  },
  {
   "cell_type": "code",
   "execution_count": 21,
   "id": "2444d8d5",
   "metadata": {},
   "outputs": [
    {
     "data": {
      "text/plain": [
       "['class']"
      ]
     },
     "execution_count": 21,
     "metadata": {},
     "output_type": "execute_result"
    }
   ],
   "source": [
    "# Displaying target name\n",
    "\n",
    "elec_data.target_names"
   ]
  },
  {
   "cell_type": "code",
   "execution_count": 22,
   "id": "65fbac9b",
   "metadata": {},
   "outputs": [],
   "source": [
    "# Getting the whole dataframe\n",
    "\n",
    "elec_df = elec_data.frame"
   ]
  },
  {
   "cell_type": "code",
   "execution_count": 23,
   "id": "00121ba8",
   "metadata": {},
   "outputs": [
    {
     "data": {
      "text/plain": [
       "pandas.core.frame.DataFrame"
      ]
     },
     "execution_count": 23,
     "metadata": {},
     "output_type": "execute_result"
    }
   ],
   "source": [
    "type(elec_df )"
   ]
  },
  {
   "cell_type": "markdown",
   "id": "03789f63",
   "metadata": {},
   "source": [
    "Exploratory Data Analysis"
   ]
  },
  {
   "cell_type": "code",
   "execution_count": 28,
   "id": "254fff45",
   "metadata": {},
   "outputs": [
    {
     "name": "stdout",
     "output_type": "stream",
     "text": [
      "The size of training data is: 33984 \n",
      "The size of testing data is: 11328\n"
     ]
    }
   ],
   "source": [
    "train_data, test_data = train_test_split(elec_df , test_size=0.25,random_state=20)\n",
    "\n",
    "print('The size of training data is: {} \\nThe size of testing data is: {}'.format(len(train_data), len(test_data)))"
   ]
  },
  {
   "cell_type": "code",
   "execution_count": 29,
   "id": "bf10df4e",
   "metadata": {},
   "outputs": [
    {
     "data": {
      "text/html": [
       "<div>\n",
       "<style scoped>\n",
       "    .dataframe tbody tr th:only-of-type {\n",
       "        vertical-align: middle;\n",
       "    }\n",
       "\n",
       "    .dataframe tbody tr th {\n",
       "        vertical-align: top;\n",
       "    }\n",
       "\n",
       "    .dataframe thead th {\n",
       "        text-align: right;\n",
       "    }\n",
       "</style>\n",
       "<table border=\"1\" class=\"dataframe\">\n",
       "  <thead>\n",
       "    <tr style=\"text-align: right;\">\n",
       "      <th></th>\n",
       "      <th>date</th>\n",
       "      <th>day</th>\n",
       "      <th>period</th>\n",
       "      <th>nswprice</th>\n",
       "      <th>nswdemand</th>\n",
       "      <th>vicprice</th>\n",
       "      <th>vicdemand</th>\n",
       "      <th>transfer</th>\n",
       "      <th>class</th>\n",
       "    </tr>\n",
       "  </thead>\n",
       "  <tbody>\n",
       "    <tr>\n",
       "      <th>27325</th>\n",
       "      <td>0.469846</td>\n",
       "      <td>4</td>\n",
       "      <td>0.276596</td>\n",
       "      <td>0.164705</td>\n",
       "      <td>0.519637</td>\n",
       "      <td>0.011417</td>\n",
       "      <td>0.657949</td>\n",
       "      <td>0.265789</td>\n",
       "      <td>DOWN</td>\n",
       "    </tr>\n",
       "    <tr>\n",
       "      <th>28731</th>\n",
       "      <td>0.474227</td>\n",
       "      <td>5</td>\n",
       "      <td>0.574468</td>\n",
       "      <td>0.024919</td>\n",
       "      <td>0.191907</td>\n",
       "      <td>0.001656</td>\n",
       "      <td>0.090886</td>\n",
       "      <td>0.819737</td>\n",
       "      <td>DOWN</td>\n",
       "    </tr>\n",
       "    <tr>\n",
       "      <th>8450</th>\n",
       "      <td>0.023141</td>\n",
       "      <td>3</td>\n",
       "      <td>0.042553</td>\n",
       "      <td>0.065270</td>\n",
       "      <td>0.250074</td>\n",
       "      <td>0.003467</td>\n",
       "      <td>0.422915</td>\n",
       "      <td>0.414912</td>\n",
       "      <td>DOWN</td>\n",
       "    </tr>\n",
       "    <tr>\n",
       "      <th>36659</th>\n",
       "      <td>0.889385</td>\n",
       "      <td>2</td>\n",
       "      <td>0.744681</td>\n",
       "      <td>0.148193</td>\n",
       "      <td>0.670039</td>\n",
       "      <td>0.009981</td>\n",
       "      <td>0.533402</td>\n",
       "      <td>0.563596</td>\n",
       "      <td>UP</td>\n",
       "    </tr>\n",
       "    <tr>\n",
       "      <th>781</th>\n",
       "      <td>0.000708</td>\n",
       "      <td>4</td>\n",
       "      <td>0.276596</td>\n",
       "      <td>0.124204</td>\n",
       "      <td>0.475454</td>\n",
       "      <td>0.003467</td>\n",
       "      <td>0.422915</td>\n",
       "      <td>0.414912</td>\n",
       "      <td>UP</td>\n",
       "    </tr>\n",
       "    <tr>\n",
       "      <th>13013</th>\n",
       "      <td>0.428963</td>\n",
       "      <td>7</td>\n",
       "      <td>0.106383</td>\n",
       "      <td>0.055242</td>\n",
       "      <td>0.084647</td>\n",
       "      <td>0.003467</td>\n",
       "      <td>0.422915</td>\n",
       "      <td>0.414912</td>\n",
       "      <td>DOWN</td>\n",
       "    </tr>\n",
       "    <tr>\n",
       "      <th>3330</th>\n",
       "      <td>0.009203</td>\n",
       "      <td>1</td>\n",
       "      <td>0.382979</td>\n",
       "      <td>0.045635</td>\n",
       "      <td>0.741892</td>\n",
       "      <td>0.003467</td>\n",
       "      <td>0.422915</td>\n",
       "      <td>0.414912</td>\n",
       "      <td>DOWN</td>\n",
       "    </tr>\n",
       "    <tr>\n",
       "      <th>18851</th>\n",
       "      <td>0.446662</td>\n",
       "      <td>2</td>\n",
       "      <td>0.744681</td>\n",
       "      <td>0.183409</td>\n",
       "      <td>0.785034</td>\n",
       "      <td>0.012154</td>\n",
       "      <td>0.757639</td>\n",
       "      <td>0.517105</td>\n",
       "      <td>UP</td>\n",
       "    </tr>\n",
       "    <tr>\n",
       "      <th>14838</th>\n",
       "      <td>0.433830</td>\n",
       "      <td>3</td>\n",
       "      <td>0.127660</td>\n",
       "      <td>0.047886</td>\n",
       "      <td>0.141476</td>\n",
       "      <td>0.003467</td>\n",
       "      <td>0.422915</td>\n",
       "      <td>0.414912</td>\n",
       "      <td>DOWN</td>\n",
       "    </tr>\n",
       "    <tr>\n",
       "      <th>30462</th>\n",
       "      <td>0.868236</td>\n",
       "      <td>6</td>\n",
       "      <td>0.638298</td>\n",
       "      <td>0.030833</td>\n",
       "      <td>0.702023</td>\n",
       "      <td>0.001963</td>\n",
       "      <td>0.538322</td>\n",
       "      <td>0.674123</td>\n",
       "      <td>UP</td>\n",
       "    </tr>\n",
       "  </tbody>\n",
       "</table>\n",
       "</div>"
      ],
      "text/plain": [
       "           date day    period  nswprice  nswdemand  vicprice  vicdemand  \\\n",
       "27325  0.469846   4  0.276596  0.164705   0.519637  0.011417   0.657949   \n",
       "28731  0.474227   5  0.574468  0.024919   0.191907  0.001656   0.090886   \n",
       "8450   0.023141   3  0.042553  0.065270   0.250074  0.003467   0.422915   \n",
       "36659  0.889385   2  0.744681  0.148193   0.670039  0.009981   0.533402   \n",
       "781    0.000708   4  0.276596  0.124204   0.475454  0.003467   0.422915   \n",
       "13013  0.428963   7  0.106383  0.055242   0.084647  0.003467   0.422915   \n",
       "3330   0.009203   1  0.382979  0.045635   0.741892  0.003467   0.422915   \n",
       "18851  0.446662   2  0.744681  0.183409   0.785034  0.012154   0.757639   \n",
       "14838  0.433830   3  0.127660  0.047886   0.141476  0.003467   0.422915   \n",
       "30462  0.868236   6  0.638298  0.030833   0.702023  0.001963   0.538322   \n",
       "\n",
       "       transfer class  \n",
       "27325  0.265789  DOWN  \n",
       "28731  0.819737  DOWN  \n",
       "8450   0.414912  DOWN  \n",
       "36659  0.563596    UP  \n",
       "781    0.414912    UP  \n",
       "13013  0.414912  DOWN  \n",
       "3330   0.414912  DOWN  \n",
       "18851  0.517105    UP  \n",
       "14838  0.414912  DOWN  \n",
       "30462  0.674123    UP  "
      ]
     },
     "execution_count": 29,
     "metadata": {},
     "output_type": "execute_result"
    }
   ],
   "source": [
    "# Displaying the first rows\n",
    "\n",
    "train_data.head(10)"
   ]
  },
  {
   "cell_type": "code",
   "execution_count": 30,
   "id": "11060add",
   "metadata": {},
   "outputs": [
    {
     "data": {
      "text/html": [
       "<div>\n",
       "<style scoped>\n",
       "    .dataframe tbody tr th:only-of-type {\n",
       "        vertical-align: middle;\n",
       "    }\n",
       "\n",
       "    .dataframe tbody tr th {\n",
       "        vertical-align: top;\n",
       "    }\n",
       "\n",
       "    .dataframe thead th {\n",
       "        text-align: right;\n",
       "    }\n",
       "</style>\n",
       "<table border=\"1\" class=\"dataframe\">\n",
       "  <thead>\n",
       "    <tr style=\"text-align: right;\">\n",
       "      <th></th>\n",
       "      <th>date</th>\n",
       "      <th>day</th>\n",
       "      <th>period</th>\n",
       "      <th>nswprice</th>\n",
       "      <th>nswdemand</th>\n",
       "      <th>vicprice</th>\n",
       "      <th>vicdemand</th>\n",
       "      <th>transfer</th>\n",
       "      <th>class</th>\n",
       "    </tr>\n",
       "  </thead>\n",
       "  <tbody>\n",
       "    <tr>\n",
       "      <th>31962</th>\n",
       "      <td>0.875846</td>\n",
       "      <td>2</td>\n",
       "      <td>0.893617</td>\n",
       "      <td>0.028822</td>\n",
       "      <td>0.427998</td>\n",
       "      <td>0.001288</td>\n",
       "      <td>0.385293</td>\n",
       "      <td>0.813158</td>\n",
       "      <td>DOWN</td>\n",
       "    </tr>\n",
       "    <tr>\n",
       "      <th>23452</th>\n",
       "      <td>0.460112</td>\n",
       "      <td>7</td>\n",
       "      <td>0.595745</td>\n",
       "      <td>0.026660</td>\n",
       "      <td>0.369979</td>\n",
       "      <td>0.001774</td>\n",
       "      <td>0.234076</td>\n",
       "      <td>0.621053</td>\n",
       "      <td>DOWN</td>\n",
       "    </tr>\n",
       "    <tr>\n",
       "      <th>23775</th>\n",
       "      <td>0.460422</td>\n",
       "      <td>7</td>\n",
       "      <td>0.319149</td>\n",
       "      <td>0.026750</td>\n",
       "      <td>0.373550</td>\n",
       "      <td>0.001813</td>\n",
       "      <td>0.269032</td>\n",
       "      <td>0.564035</td>\n",
       "      <td>DOWN</td>\n",
       "    </tr>\n",
       "    <tr>\n",
       "      <th>37135</th>\n",
       "      <td>0.889828</td>\n",
       "      <td>5</td>\n",
       "      <td>0.659574</td>\n",
       "      <td>0.028462</td>\n",
       "      <td>0.555638</td>\n",
       "      <td>0.002021</td>\n",
       "      <td>0.625583</td>\n",
       "      <td>0.248684</td>\n",
       "      <td>DOWN</td>\n",
       "    </tr>\n",
       "    <tr>\n",
       "      <th>27098</th>\n",
       "      <td>0.469625</td>\n",
       "      <td>6</td>\n",
       "      <td>0.553191</td>\n",
       "      <td>0.054792</td>\n",
       "      <td>0.514430</td>\n",
       "      <td>0.003712</td>\n",
       "      <td>0.545572</td>\n",
       "      <td>0.229825</td>\n",
       "      <td>UP</td>\n",
       "    </tr>\n",
       "  </tbody>\n",
       "</table>\n",
       "</div>"
      ],
      "text/plain": [
       "           date day    period  nswprice  nswdemand  vicprice  vicdemand  \\\n",
       "31962  0.875846   2  0.893617  0.028822   0.427998  0.001288   0.385293   \n",
       "23452  0.460112   7  0.595745  0.026660   0.369979  0.001774   0.234076   \n",
       "23775  0.460422   7  0.319149  0.026750   0.373550  0.001813   0.269032   \n",
       "37135  0.889828   5  0.659574  0.028462   0.555638  0.002021   0.625583   \n",
       "27098  0.469625   6  0.553191  0.054792   0.514430  0.003712   0.545572   \n",
       "\n",
       "       transfer class  \n",
       "31962  0.813158  DOWN  \n",
       "23452  0.621053  DOWN  \n",
       "23775  0.564035  DOWN  \n",
       "37135  0.248684  DOWN  \n",
       "27098  0.229825    UP  "
      ]
     },
     "execution_count": 30,
     "metadata": {},
     "output_type": "execute_result"
    }
   ],
   "source": [
    "# Displaying the last rows \n",
    "\n",
    "train_data.tail()"
   ]
  },
  {
   "cell_type": "code",
   "execution_count": 31,
   "id": "2e719ac0",
   "metadata": {},
   "outputs": [
    {
     "name": "stdout",
     "output_type": "stream",
     "text": [
      "<class 'pandas.core.frame.DataFrame'>\n",
      "Index: 33984 entries, 27325 to 27098\n",
      "Data columns (total 9 columns):\n",
      " #   Column     Non-Null Count  Dtype   \n",
      "---  ------     --------------  -----   \n",
      " 0   date       33984 non-null  float64 \n",
      " 1   day        33984 non-null  category\n",
      " 2   period     33984 non-null  float64 \n",
      " 3   nswprice   33984 non-null  float64 \n",
      " 4   nswdemand  33984 non-null  float64 \n",
      " 5   vicprice   33984 non-null  float64 \n",
      " 6   vicdemand  33984 non-null  float64 \n",
      " 7   transfer   33984 non-null  float64 \n",
      " 8   class      33984 non-null  category\n",
      "dtypes: category(2), float64(7)\n",
      "memory usage: 2.1 MB\n"
     ]
    }
   ],
   "source": [
    "train_data.info()"
   ]
  },
  {
   "cell_type": "code",
   "execution_count": 32,
   "id": "f14fae5c",
   "metadata": {},
   "outputs": [
    {
     "data": {
      "text/html": [
       "<div>\n",
       "<style scoped>\n",
       "    .dataframe tbody tr th:only-of-type {\n",
       "        vertical-align: middle;\n",
       "    }\n",
       "\n",
       "    .dataframe tbody tr th {\n",
       "        vertical-align: top;\n",
       "    }\n",
       "\n",
       "    .dataframe thead th {\n",
       "        text-align: right;\n",
       "    }\n",
       "</style>\n",
       "<table border=\"1\" class=\"dataframe\">\n",
       "  <thead>\n",
       "    <tr style=\"text-align: right;\">\n",
       "      <th></th>\n",
       "      <th>date</th>\n",
       "      <th>period</th>\n",
       "      <th>nswprice</th>\n",
       "      <th>nswdemand</th>\n",
       "      <th>vicprice</th>\n",
       "      <th>vicdemand</th>\n",
       "      <th>transfer</th>\n",
       "    </tr>\n",
       "  </thead>\n",
       "  <tbody>\n",
       "    <tr>\n",
       "      <th>count</th>\n",
       "      <td>33984.000000</td>\n",
       "      <td>33984.000000</td>\n",
       "      <td>33984.000000</td>\n",
       "      <td>33984.000000</td>\n",
       "      <td>33984.000000</td>\n",
       "      <td>33984.000000</td>\n",
       "      <td>33984.000000</td>\n",
       "    </tr>\n",
       "    <tr>\n",
       "      <th>mean</th>\n",
       "      <td>0.498150</td>\n",
       "      <td>0.499211</td>\n",
       "      <td>0.057922</td>\n",
       "      <td>0.424763</td>\n",
       "      <td>0.003445</td>\n",
       "      <td>0.423035</td>\n",
       "      <td>0.500089</td>\n",
       "    </tr>\n",
       "    <tr>\n",
       "      <th>std</th>\n",
       "      <td>0.340429</td>\n",
       "      <td>0.294571</td>\n",
       "      <td>0.040195</td>\n",
       "      <td>0.163858</td>\n",
       "      <td>0.008846</td>\n",
       "      <td>0.121087</td>\n",
       "      <td>0.153224</td>\n",
       "    </tr>\n",
       "    <tr>\n",
       "      <th>min</th>\n",
       "      <td>0.000000</td>\n",
       "      <td>0.000000</td>\n",
       "      <td>0.000000</td>\n",
       "      <td>0.001190</td>\n",
       "      <td>0.000000</td>\n",
       "      <td>0.000000</td>\n",
       "      <td>0.000000</td>\n",
       "    </tr>\n",
       "    <tr>\n",
       "      <th>25%</th>\n",
       "      <td>0.031857</td>\n",
       "      <td>0.234043</td>\n",
       "      <td>0.035247</td>\n",
       "      <td>0.307944</td>\n",
       "      <td>0.002283</td>\n",
       "      <td>0.372087</td>\n",
       "      <td>0.414912</td>\n",
       "    </tr>\n",
       "    <tr>\n",
       "      <th>50%</th>\n",
       "      <td>0.456307</td>\n",
       "      <td>0.489362</td>\n",
       "      <td>0.048667</td>\n",
       "      <td>0.442725</td>\n",
       "      <td>0.003467</td>\n",
       "      <td>0.422915</td>\n",
       "      <td>0.414912</td>\n",
       "    </tr>\n",
       "    <tr>\n",
       "      <th>75%</th>\n",
       "      <td>0.880581</td>\n",
       "      <td>0.744681</td>\n",
       "      <td>0.074276</td>\n",
       "      <td>0.535704</td>\n",
       "      <td>0.003467</td>\n",
       "      <td>0.469446</td>\n",
       "      <td>0.605263</td>\n",
       "    </tr>\n",
       "    <tr>\n",
       "      <th>max</th>\n",
       "      <td>1.000000</td>\n",
       "      <td>1.000000</td>\n",
       "      <td>0.981806</td>\n",
       "      <td>1.000000</td>\n",
       "      <td>1.000000</td>\n",
       "      <td>1.000000</td>\n",
       "      <td>1.000000</td>\n",
       "    </tr>\n",
       "  </tbody>\n",
       "</table>\n",
       "</div>"
      ],
      "text/plain": [
       "               date        period      nswprice     nswdemand      vicprice  \\\n",
       "count  33984.000000  33984.000000  33984.000000  33984.000000  33984.000000   \n",
       "mean       0.498150      0.499211      0.057922      0.424763      0.003445   \n",
       "std        0.340429      0.294571      0.040195      0.163858      0.008846   \n",
       "min        0.000000      0.000000      0.000000      0.001190      0.000000   \n",
       "25%        0.031857      0.234043      0.035247      0.307944      0.002283   \n",
       "50%        0.456307      0.489362      0.048667      0.442725      0.003467   \n",
       "75%        0.880581      0.744681      0.074276      0.535704      0.003467   \n",
       "max        1.000000      1.000000      0.981806      1.000000      1.000000   \n",
       "\n",
       "          vicdemand      transfer  \n",
       "count  33984.000000  33984.000000  \n",
       "mean       0.423035      0.500089  \n",
       "std        0.121087      0.153224  \n",
       "min        0.000000      0.000000  \n",
       "25%        0.372087      0.414912  \n",
       "50%        0.422915      0.414912  \n",
       "75%        0.469446      0.605263  \n",
       "max        1.000000      1.000000  "
      ]
     },
     "execution_count": 32,
     "metadata": {},
     "output_type": "execute_result"
    }
   ],
   "source": [
    "# Summary stats\n",
    "\n",
    "train_data.describe()"
   ]
  },
  {
   "cell_type": "code",
   "execution_count": 33,
   "id": "1fc64178",
   "metadata": {},
   "outputs": [
    {
     "data": {
      "text/plain": [
       "date         0\n",
       "day          0\n",
       "period       0\n",
       "nswprice     0\n",
       "nswdemand    0\n",
       "vicprice     0\n",
       "vicdemand    0\n",
       "transfer     0\n",
       "class        0\n",
       "dtype: int64"
      ]
     },
     "execution_count": 33,
     "metadata": {},
     "output_type": "execute_result"
    }
   ],
   "source": [
    "# Checking missing values\n",
    "\n",
    "train_data.isnull().sum()"
   ]
  },
  {
   "cell_type": "code",
   "execution_count": 35,
   "id": "a6d06ddb",
   "metadata": {},
   "outputs": [],
   "source": [
    "# Checking feature correlation\n",
    "\n",
    "# Select only numeric columns for correlation calculation\n",
    "numeric_data = train_data.select_dtypes(include=[float, int])\n",
    "\n",
    "# Compute the correlation matrix\n",
    "corr = numeric_data.corr()"
   ]
  },
  {
   "cell_type": "code",
   "execution_count": 37,
   "id": "62d02fea",
   "metadata": {},
   "outputs": [
    {
     "data": {
      "text/plain": [
       "<Axes: >"
      ]
     },
     "execution_count": 37,
     "metadata": {},
     "output_type": "execute_result"
    },
    {
     "data": {
      "image/png": "[encoded data removed]",
      "text/plain": [
       "<Figure size 1100x500 with 2 Axes>"
      ]
     },
     "metadata": {},
     "output_type": "display_data"
    }
   ],
   "source": [
    "## Visualizing correlation\n",
    "\n",
    "plt.figure(figsize=(11,5))\n",
    "\n",
    "sns.heatmap(corr,annot=True,cmap='crest')"
   ]
  },
  {
   "cell_type": "markdown",
   "id": "9c5fc6c0",
   "metadata": {},
   "source": [
    "We don't have features which are too correlating. Correlation shown above varies from -1 to 1. If the correlation between two features is close to 1, it means that they nearly contain the same information. If it is close to -1, it means that these features contain different information.Take an example: vicdemand correlate with nswdeman at 0.67 ratio.\n",
    "\n",
    "So if you drop one of those features, it's likely that your model will not be affected much. Having features which does not correlate to the target feature doesn't mean they are not useful."
   ]
  },
  {
   "cell_type": "code",
   "execution_count": null,
   "id": "98854667",
   "metadata": {},
   "outputs": [],
   "source": []
  }
 ],
 "metadata": {
  "kernelspec": {
   "display_name": "Python 3 (ipykernel)",
   "language": "python",
   "name": "python3"
  },
  "language_info": {
   "codemirror_mode": {
    "name": "ipython",
    "version": 3
   },
   "file_extension": ".py",
   "mimetype": "text/x-python",
   "name": "python",
   "nbconvert_exporter": "python",
   "pygments_lexer": "ipython3",
   "version": "3.11.3"
  }
 },
 "nbformat": 4,
 "nbformat_minor": 5
}
