{
 "cells": [
  {
   "cell_type": "code",
   "execution_count": null,
   "id": "b2bf9faf",
   "metadata": {},
   "outputs": [],
   "source": [
    "7 interesting facts about decision trees:"
   ]
  },
  {
   "cell_type": "markdown",
   "id": "51e0b326",
   "metadata": {},
   "source": [
    ".They do not need the numerical input data to be scaled. Whatever the numerical values are, decision trees don't care.\n",
    "\n",
    ".Decision trees handle categorical features in the raw text format (Scikit-Learn doesn't support this, TensorFlow's trees implementation does).\n",
    "\n",
    ".Different to other complex learning algorithms, the results of decision trees can be interpreted. It's fair to say that decision trees are not blackbox type models.\n",
    "\n",
    ".While most models will suffer from missing values, decision trees are okay with them.\n",
    "\n",
    ".Trees can handle imbalanced datasets. You will only have to adjust the weights of the classes.\n",
    "\n",
    ".Trees can provide the feature importances or how much each feature contributed to the model training results.\n",
    "\n",
    ".Trees are the basic building blocks of ensemble methods such as random forests and gradient boosting machines."
   ]
  },
  {
   "cell_type": "markdown",
   "id": "9357741d",
   "metadata": {},
   "source": [
    "A well-known downside of decision trees is that they tend to overfit the data easily(pretty much assumed they will always overfit at first). One way to overcome overfitting is to reduce the maximum depth of the decision tree (refered to as max_depthhyperparameter) in decision trees."
   ]
  },
  {
   "cell_type": "code",
   "execution_count": null,
   "id": "4336aca9",
   "metadata": {},
   "outputs": [],
   "source": [
    "import numpy as np\n",
    "import pandas as pd\n",
    "import seaborn as sns\n",
    "import sklearn\n",
    "import matplotlib.pyplot as plt\n",
    "from sklearn.datasets import fetch_openml\n",
    "from sklearn.model_selection import train_test_split\n",
    "from sklearn.preprocessing import LabelEncoder\n",
    "from sklearn.tree import DecisionTreeClassifier\n",
    "from sklearn.metrics import accuracy_score\n",
    "from sklearn.metrics import confusion_matrix\n",
    "from sklearn.metrics import classification_report\n",
    "from sklearn.tree import plot_tree\n",
    "%matplotlib inline\n",
    "\n",
    "import warnings\n",
    "warnings.filterwarnings('ignore')"
   ]
  }
 ],
 "metadata": {
  "kernelspec": {
   "display_name": "Python 3 (ipykernel)",
   "language": "python",
   "name": "python3"
  },
  "language_info": {
   "codemirror_mode": {
    "name": "ipython",
    "version": 3
   },
   "file_extension": ".py",
   "mimetype": "text/x-python",
   "name": "python",
   "nbconvert_exporter": "python",
   "pygments_lexer": "ipython3",
   "version": "3.11.3"
  }
 },
 "nbformat": 4,
 "nbformat_minor": 5
}
